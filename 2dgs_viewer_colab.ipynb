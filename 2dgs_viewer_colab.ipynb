{
  "nbformat": 4,
  "nbformat_minor": 0,
  "metadata": {
    "colab": {
      "provenance": [],
      "gpuType": "T4",
      "authorship_tag": "ABX9TyMSc6Rpwn9xZcwfNY517204",
      "include_colab_link": true
    },
    "kernelspec": {
      "name": "python3",
      "display_name": "Python 3"
    },
    "language_info": {
      "name": "python"
    },
    "accelerator": "GPU"
  },
  "cells": [
    {
      "cell_type": "markdown",
      "metadata": {
        "id": "view-in-github",
        "colab_type": "text"
      },
      "source": [
        "<a href=\"https://colab.research.google.com/github/hwanhuh/2D-GS-Viser-Viewer/blob/main/2dgs_viewer_colab.ipynb\" target=\"_parent\"><img src=\"https://colab.research.google.com/assets/colab-badge.svg\" alt=\"Open In Colab\"/></a>"
      ]
    },
    {
      "cell_type": "code",
      "execution_count": null,
      "metadata": {
        "collapsed": true,
        "id": "1MCF8W3r2GXE"
      },
      "outputs": [],
      "source": [
        "!git clone https://github.com/hbb1/2d-gaussian-splatting.git --recursive"
      ]
    },
    {
      "cell_type": "code",
      "source": [
        "%cd 2d-gaussian-splatting\n",
        "!ls"
      ],
      "metadata": {
        "id": "J0D-fmNi2Y5D"
      },
      "execution_count": null,
      "outputs": []
    },
    {
      "cell_type": "code",
      "source": [
        "!git clone https://github.com/hwanhuh/2D-GS-Viser-Viewer.git\n",
        "!mv ./2D-GS-Viser-Viewer/* ./"
      ],
      "metadata": {
        "collapsed": true,
        "id": "zG-UH_TM27_l"
      },
      "execution_count": null,
      "outputs": []
    },
    {
      "cell_type": "code",
      "source": [
        "!pip install -r requirements.txt"
      ],
      "metadata": {
        "id": "xJuZ86waIr7o"
      },
      "execution_count": null,
      "outputs": []
    },
    {
      "cell_type": "code",
      "source": [
        "!python viewer.py ./point_cloud.ply"
      ],
      "metadata": {
        "id": "SUMGS8lB6NIy"
      },
      "execution_count": null,
      "outputs": []
    },
    {
      "cell_type": "code",
      "source": [],
      "metadata": {
        "id": "BExHl5s26ZHi"
      },
      "execution_count": null,
      "outputs": []
    }
  ]
}